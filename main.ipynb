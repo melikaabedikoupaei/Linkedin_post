{
 "cells": [
  {
   "cell_type": "code",
   "execution_count": 2,
   "metadata": {},
   "outputs": [],
   "source": [
    "import pandas as pd"
   ]
  },
  {
   "cell_type": "code",
   "execution_count": 35,
   "metadata": {},
   "outputs": [],
   "source": [
    "import json\n",
    "from LLM_helper import llm\n",
    "import pandas as pd\n",
    "from langchain_core.prompts import PromptTemplate\n",
    "from langchain_core.output_parsers import JsonOutputParser\n",
    "from langchain_core.exceptions import OutputParserException \n",
    "\n",
    "def process_posts():\n",
    "    df = pd.read_excel(\"./topic.xlsx\")\n",
    "    df = df[df[\"status\"].isna()]\n",
    "    text = df.iloc[0][\"topic\"]\n",
    "    enriched_posts = complete_post(text)\n",
    "    return enriched_posts\n",
    "\n",
    "def complete_post(post):\n",
    "    template = '''\n",
    "    You are given a short LinkedIn post idea. Your task is to:\n",
    "    1. Generate a well-written, complete LinkedIn post based on the idea.\n",
    "    2. Extract up to two relevant tags based on the content of the post.\n",
    "    \n",
    "    Here is the idea for the LinkedIn post:  \n",
    "    {post}\n",
    "    '''\n",
    "\n",
    "    pt = PromptTemplate.from_template(template)\n",
    "    chain = pt | llm\n",
    "    response = chain.invoke(input={\"post\": post})\n",
    "\n",
    "    try:\n",
    "        json_parser = JsonOutputParser()\n",
    "        res = json_parser.parse(response.content)\n",
    "    except OutputParserException:\n",
    "        raise OutputParserException(\"Context too big. Unable to parse jobs.\")\n",
    "    \n",
    "    # Assuming the LLM generates a well-formed post and tags\n",
    "    raw_post = post\n",
    "    generated_post = res.get('generated_post', '')\n",
    "    tags = res.get('tags', [])\n",
    "\n",
    "    return {\n",
    "        \"linkedin_post\": generated_post,\n",
    "        \"llm_summary\": generated_post,  # Using the generated post itself as the summary\n",
    "        \"tags\": tags\n",
    "    }\n"
   ]
  },
  {
   "cell_type": "code",
   "execution_count": 43,
   "metadata": {},
   "outputs": [
    {
     "ename": "ModuleNotFoundError",
     "evalue": "No module named 'ln_oauth'",
     "output_type": "error",
     "traceback": [
      "\u001b[1;31m---------------------------------------------------------------------------\u001b[0m",
      "\u001b[1;31mModuleNotFoundError\u001b[0m                       Traceback (most recent call last)",
      "Cell \u001b[1;32mIn[43], line 1\u001b[0m\n\u001b[1;32m----> 1\u001b[0m \u001b[38;5;28;01mfrom\u001b[39;00m \u001b[38;5;21;01mln_oauth\u001b[39;00m \u001b[38;5;28;01mimport\u001b[39;00m auth, headers\n",
      "\u001b[1;31mModuleNotFoundError\u001b[0m: No module named 'ln_oauth'"
     ]
    }
   ],
   "source": [
    "from ln_oauth import auth, headers"
   ]
  },
  {
   "cell_type": "code",
   "execution_count": 44,
   "metadata": {},
   "outputs": [
    {
     "name": "stdout",
     "output_type": "stream",
     "text": [
      "Note: you may need to restart the kernel to use updated packages.\n"
     ]
    },
    {
     "name": "stderr",
     "output_type": "stream",
     "text": [
      "ERROR: Could not find a version that satisfies the requirement ln_oauth (from versions: none)\n",
      "ERROR: No matching distribution found for ln_oauth\n",
      "\n",
      "[notice] A new release of pip is available: 24.0 -> 24.3.1\n",
      "[notice] To update, run: C:\\Users\\melika\\AppData\\Local\\Microsoft\\WindowsApps\\PythonSoftwareFoundation.Python.3.11_qbz5n2kfra8p0\\python.exe -m pip install --upgrade pip\n"
     ]
    }
   ],
   "source": [
    "pip install ln_oauth"
   ]
  },
  {
   "cell_type": "code",
   "execution_count": null,
   "metadata": {},
   "outputs": [
    {
     "name": "stdout",
     "output_type": "stream",
     "text": [
      "Error fetching organization data: 404, {\"status\":404,\"code\":\"RESOURCE_NOT_FOUND\",\"message\":\"No virtual resource found\"}\n"
     ]
    }
   ],
   "source": [
    "import requests\n",
    "import json\n",
    "\n",
    "# Your LinkedIn access token\n",
    "access_token = 'AQVsm2MdQfEX8rUFXzOXZKcQAheUZV3829Qo7pUns5FoCCgeItt9fRDHk30jv8yStMQQni6Qg-0WKbpA68FfoPj0GkSLxbQcpSuVtNjEpQEtRDmTJZPEtk_sV_iG2GbnFqGTw4QF8KuNgKdmmol68X0sIJq3u4JJb2Gpe4iZ2aS5pxC-s9cxPO77aGzNKU6pioI1Cc64RlBmV1aATpxkaiqgA_VHqlatIY2WpFA4VNhcqSWsd_cFxN_Q1X-DaDG8NehlS0HjlBWgko0qU8aqnddtT5V43dk69fvXslbUZMwK-kIeLmXrzxuw0sF3uLkMpRgwImLtrM7Drl-8sT0ULBBUFgZBNA'  # Replace with your actual access token\n",
    "\n",
    "# LinkedIn API URL for creating a post\n",
    "url = \"https://api.linkedin.com/v2/ugcPosts\"\n",
    "\n",
    "# Set the headers, including the access token\n",
    "headers = {\n",
    "    'Authorization': f'Bearer {access_token}',\n",
    "    'Content-Type': 'application/json'\n",
    "}\n",
    "\n",
    "# Create the post content\n",
    "post_content = {\n",
    "    \"author\": \"urn:li:person:3LU-AXhw2I\",  # Replace with your LinkedIn URN (you have the \"sub\" as part of your user ID)\n",
    "    \"lifecycleState\": \"PUBLISHED\",\n",
    "    \"specificContent\": {\n",
    "        \"com.linkedin.ugc.ShareContent\": {\n",
    "            \"shareCommentary\": {\n",
    "                \"text\": \"Hello World!\"  # The content of your post\n",
    "            },\n",
    "            \"shareMediaCategory\": \"NONE\"\n",
    "        }\n",
    "    },\n",
    "    \"visibility\": {\n",
    "        \"com.linkedin.ugc.MemberNetworkVisibility\": \"PUBLIC\"\n",
    "    }\n",
    "}\n",
    "\n",
    "# Send the request to create the post\n",
    "response = requests.post(url, headers=headers, data=json.dumps(post_content))\n",
    "\n",
    "# Check the response\n",
    "if response.status_code == 201:\n",
    "    print(\"Post created successfully!\")\n",
    "    print(\"Response:\", response.json())\n",
    "else:\n",
    "    print(f\"Failed to create post. Status code: {response.status_code}\")\n",
    "    print(\"Error:\", response.text)\n"
   ]
  }
 ],
 "metadata": {
  "kernelspec": {
   "display_name": "Python 3",
   "language": "python",
   "name": "python3"
  },
  "language_info": {
   "codemirror_mode": {
    "name": "ipython",
    "version": 3
   },
   "file_extension": ".py",
   "mimetype": "text/x-python",
   "name": "python",
   "nbconvert_exporter": "python",
   "pygments_lexer": "ipython3",
   "version": "3.11.9"
  }
 },
 "nbformat": 4,
 "nbformat_minor": 2
}
